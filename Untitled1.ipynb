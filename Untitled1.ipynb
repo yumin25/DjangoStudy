{
 "cells": [
  {
   "cell_type": "code",
   "execution_count": 1,
   "metadata": {},
   "outputs": [],
   "source": [
    "import requests\n",
    "\n",
    "URL_TOTAL_LIST = 'https://comic.naver.com/webtoon/weekday.nhn'\n",
    "\n",
    "response = requests.get(URL_TOTAL_LIST)"
   ]
  },
  {
   "cell_type": "code",
   "execution_count": 2,
   "metadata": {},
   "outputs": [],
   "source": [
    "from bs4 import BeautifulSoup\n",
    "soup = BeautifulSoup(response.text,'html.parser')"
   ]
  },
  {
   "cell_type": "markdown",
   "metadata": {},
   "source": [
    "name = input()\n",
    "class_title_a_list = soup.select('a.title')\n",
    "for a in class_title_a_list:\n",
    "    a_text = a.get_text()\n",
    "    print(a_text)"
   ]
  },
  {
   "cell_type": "code",
   "execution_count": 4,
   "metadata": {},
   "outputs": [
    {
     "name": "stdout",
     "output_type": "stream",
     "text": [
      "외모지상주의\n",
      "\n",
      "\t\t\t        외모지상주의\n",
      "\t\t\t\t\t\t\t박태준\n",
      " 어느날 그에게 일어난 기적같은 일 스토리, 판타지, 드라마15세 이용가\n"
     ]
    }
   ],
   "source": [
    "name = input()\n",
    "t = 0\n",
    "class_title_a_list = soup.select('a.title')\n",
    "for a in class_title_a_list:\n",
    "    a_text = a.get_text()\n",
    "    if name == a_text:\n",
    "        a_href = a['href']\n",
    "        t = 1\n",
    "        break;\n",
    "\n",
    "if t==0:\n",
    "    print(\"없는 웹툰입니다.\")\n",
    "else :\n",
    "    RESULT = 'https://comic.naver.com/'+ a_href\n",
    "    #print(RESULT)\n",
    "    response1 = requests.get(RESULT)\n",
    "    soup1 = BeautifulSoup(response1.text,'html.parser')\n",
    "    a = soup1.select('h2')\n",
    "    a_1 = a[1].get_text()\n",
    "    b = soup1.select('p')\n",
    "    b_1 = b[0].get_text()\n",
    "    b_2 = b[1].get_text()\n",
    "    print(a_1, b_1,b_2)"
   ]
  },
  {
   "cell_type": "code",
   "execution_count": null,
   "metadata": {},
   "outputs": [],
   "source": []
  },
  {
   "cell_type": "code",
   "execution_count": null,
   "metadata": {},
   "outputs": [],
   "source": []
  }
 ],
 "metadata": {
  "kernelspec": {
   "display_name": "Python 3",
   "language": "python",
   "name": "python3"
  },
  "language_info": {
   "codemirror_mode": {
    "name": "ipython",
    "version": 3
   },
   "file_extension": ".py",
   "mimetype": "text/x-python",
   "name": "python",
   "nbconvert_exporter": "python",
   "pygments_lexer": "ipython3",
   "version": "3.7.4"
  }
 },
 "nbformat": 4,
 "nbformat_minor": 2
}
